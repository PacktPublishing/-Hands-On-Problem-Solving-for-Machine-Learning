{
 "cells": [
  {
   "cell_type": "markdown",
   "metadata": {},
   "source": [
    "# Section Five - Predicting  the future (30 Minutes)\n",
    "Your model performs remarkably on your dataset, but fails miserably when it sees new data. How can we build models that accurately predict the future, and not just learn the features of our dataset?"
   ]
  },
  {
   "cell_type": "markdown",
   "metadata": {},
   "source": [
    "## Build a robust model with cross validation"
   ]
  },
  {
   "cell_type": "code",
   "execution_count": 7,
   "metadata": {},
   "outputs": [],
   "source": [
    "# train test split\n",
    "import numpy as np\n",
    "from sklearn.model_selection import train_test_split\n",
    "from sklearn import datasets\n",
    "from sklearn import linear_model\n",
    "dataset = datasets.load_iris()"
   ]
  },
  {
   "cell_type": "code",
   "execution_count": 4,
   "metadata": {},
   "outputs": [
    {
     "data": {
      "text/plain": [
       "(150, 4)"
      ]
     },
     "execution_count": 4,
     "metadata": {},
     "output_type": "execute_result"
    }
   ],
   "source": [
    "dataset.data.shape"
   ]
  },
  {
   "cell_type": "code",
   "execution_count": 5,
   "metadata": {},
   "outputs": [
    {
     "data": {
      "text/plain": [
       "(150,)"
      ]
     },
     "execution_count": 5,
     "metadata": {},
     "output_type": "execute_result"
    }
   ],
   "source": [
    "dataset.target.shape"
   ]
  },
  {
   "cell_type": "code",
   "execution_count": 6,
   "metadata": {},
   "outputs": [
    {
     "data": {
      "text/plain": [
       "((90, 4), (60, 4), (90,), (60,))"
      ]
     },
     "execution_count": 6,
     "metadata": {},
     "output_type": "execute_result"
    }
   ],
   "source": [
    "hold_out_percent = 0.4\n",
    "\n",
    "# let's not overfit the entire dataset, split the data\n",
    "X_train, X_test, y_train, y_test = train_test_split(\n",
    "    dataset.data, dataset.target, test_size=hold_out_percent, random_state=42)\n",
    "\n",
    "X_train.shape, X_test.shape, y_train.shape, y_test.shape"
   ]
  },
  {
   "cell_type": "code",
   "execution_count": 27,
   "metadata": {},
   "outputs": [],
   "source": [
    "model = linear_model.LogisticRegression(\n",
    "    penalty='l2',\n",
    "    dual=False,  # Dual or primal formulation.\n",
    "    tol=0.0001,  # Tolerance for stopping criteria.\n",
    "    C=1.0,  # Inverse of regularization strength; must be a positive float.\n",
    "    fit_intercept=True\n",
    ").fit(X_train, y_train)\n",
    "\n",
    "# might overfit test set, parameters can be tweaked until estimator optimal\n",
    "# can split into (train, test, validation), but it is messy"
   ]
  },
  {
   "cell_type": "code",
   "execution_count": 11,
   "metadata": {},
   "outputs": [
    {
     "data": {
      "text/plain": [
       "array([1.        , 0.96666667, 0.93333333, 0.9       , 1.        ])"
      ]
     },
     "execution_count": 11,
     "metadata": {},
     "output_type": "execute_result"
    }
   ],
   "source": [
    "# solution - k-fold CV\n",
    "from sklearn.model_selection import cross_val_score\n",
    "model = linear_model.LogisticRegression(penalty='l2', dual=False)\n",
    "\n",
    "# split data, fit model and computing the score 5 times \n",
    "# different splits each time\n",
    "scores = cross_val_score(model, dataset.data, dataset.target, cv=5)\n",
    "scores  "
   ]
  },
  {
   "cell_type": "code",
   "execution_count": 12,
   "metadata": {},
   "outputs": [
    {
     "data": {
      "text/plain": [
       "(0.9600000000000002, 0.07774602526460399)"
      ]
     },
     "execution_count": 12,
     "metadata": {},
     "output_type": "execute_result"
    }
   ],
   "source": [
    "# compute 95% confidence interval of accuracy\n",
    "scores.mean(), scores.std() * 2"
   ]
  },
  {
   "cell_type": "code",
   "execution_count": 13,
   "metadata": {},
   "outputs": [
    {
     "data": {
      "text/plain": [
       "array([1.        , 0.96658312, 0.93333333, 0.89769821, 1.        ])"
      ]
     },
     "execution_count": 13,
     "metadata": {},
     "output_type": "execute_result"
    }
   ],
   "source": [
    "# use a custom scorer, instead of model.score()\n",
    "cross_val_score(model, dataset.data, dataset.target, cv=5, scoring='f1_macro')"
   ]
  },
  {
   "cell_type": "markdown",
   "metadata": {},
   "source": [
    "## Create complex models with scikit-learn pipelines"
   ]
  },
  {
   "cell_type": "code",
   "execution_count": null,
   "metadata": {},
   "outputs": [],
   "source": [
    "sklearn.pipeline.Pipeline(\n",
    "    steps,  # List[name, transform]  (implementing fit/transform)\n",
    "    memory=None) # cache the fitted transformers of the pipeline? folder name for cache"
   ]
  },
  {
   "cell_type": "code",
   "execution_count": 14,
   "metadata": {},
   "outputs": [],
   "source": [
    "from sklearn.pipeline import Pipeline\n",
    "from sklearn.svm import SVC\n",
    "from sklearn.decomposition import PCA"
   ]
  },
  {
   "cell_type": "code",
   "execution_count": 17,
   "metadata": {},
   "outputs": [
    {
     "data": {
      "text/plain": [
       "Pipeline(memory=None,\n",
       "     steps=[('pca', PCA(copy=True, iterated_power='auto', n_components=None, random_state=None,\n",
       "  svd_solver='auto', tol=0.0, whiten=False)), ('classifier', SVC(C=1.0, cache_size=200, class_weight=None, coef0=0.0,\n",
       "  decision_function_shape='ovr', degree=3, gamma='auto', kernel='rbf',\n",
       "  max_iter=-1, probability=False, random_state=None, shrinking=True,\n",
       "  tol=0.001, verbose=False))])"
      ]
     },
     "execution_count": 17,
     "metadata": {},
     "output_type": "execute_result"
    }
   ],
   "source": [
    "Pipeline([('pca', PCA()), ('classifier', SVC())])"
   ]
  },
  {
   "cell_type": "code",
   "execution_count": 19,
   "metadata": {},
   "outputs": [
    {
     "data": {
      "text/plain": [
       "Pipeline(memory=None,\n",
       "     steps=[('pca', PCA(copy=True, iterated_power='auto', n_components=None, random_state=None,\n",
       "  svd_solver='auto', tol=0.0, whiten=False)), ('svc', SVC(C=1.0, cache_size=200, class_weight=None, coef0=0.0,\n",
       "  decision_function_shape='ovr', degree=3, gamma='auto', kernel='rbf',\n",
       "  max_iter=-1, probability=False, random_state=None, shrinking=True,\n",
       "  tol=0.001, verbose=False))])"
      ]
     },
     "execution_count": 19,
     "metadata": {},
     "output_type": "execute_result"
    }
   ],
   "source": [
    "from sklearn.pipeline import make_pipeline\n",
    "make_pipeline(PCA(), SVC()) "
   ]
  },
  {
   "cell_type": "code",
   "execution_count": 20,
   "metadata": {},
   "outputs": [
    {
     "data": {
      "text/plain": [
       "('svc', SVC(C=1.0, cache_size=200, class_weight=None, coef0=0.0,\n",
       "   decision_function_shape='ovr', degree=3, gamma='auto', kernel='rbf',\n",
       "   max_iter=-1, probability=False, random_state=None, shrinking=True,\n",
       "   tol=0.001, verbose=False))"
      ]
     },
     "execution_count": 20,
     "metadata": {},
     "output_type": "execute_result"
    }
   ],
   "source": [
    "pipe = make_pipeline(PCA(), SVC()) \n",
    "pipe.steps[1]"
   ]
  },
  {
   "cell_type": "code",
   "execution_count": 21,
   "metadata": {},
   "outputs": [
    {
     "data": {
      "text/plain": [
       "SVC(C=1.0, cache_size=200, class_weight=None, coef0=0.0,\n",
       "  decision_function_shape='ovr', degree=3, gamma='auto', kernel='rbf',\n",
       "  max_iter=-1, probability=False, random_state=None, shrinking=True,\n",
       "  tol=0.001, verbose=False)"
      ]
     },
     "execution_count": 21,
     "metadata": {},
     "output_type": "execute_result"
    }
   ],
   "source": [
    "pipe.named_steps[\"svc\"]"
   ]
  },
  {
   "cell_type": "code",
   "execution_count": 22,
   "metadata": {},
   "outputs": [
    {
     "data": {
      "text/plain": [
       "'ovr'"
      ]
     },
     "execution_count": 22,
     "metadata": {},
     "output_type": "execute_result"
    }
   ],
   "source": [
    "pipe.named_steps[\"svc\"].decision_function_shape"
   ]
  },
  {
   "cell_type": "code",
   "execution_count": 23,
   "metadata": {},
   "outputs": [
    {
     "data": {
      "text/plain": [
       "Pipeline(memory=None,\n",
       "     steps=[('pca', PCA(copy=True, iterated_power='auto', n_components=None, random_state=None,\n",
       "  svd_solver='auto', tol=0.0, whiten=False)), ('svc', SVC(C=1.0, cache_size=200, class_weight=None, coef0=0.0,\n",
       "  decision_function_shape='ovr', degree=3, gamma='auto', kernel='rbf',\n",
       "  max_iter=-1, probability=False, random_state=None, shrinking=True,\n",
       "  tol=0.001, verbose=False))])"
      ]
     },
     "execution_count": 23,
     "metadata": {},
     "output_type": "execute_result"
    }
   ],
   "source": [
    "pipe.fit(X_train, y_train)"
   ]
  },
  {
   "cell_type": "code",
   "execution_count": 24,
   "metadata": {},
   "outputs": [
    {
     "data": {
      "text/plain": [
       "0.9777777777777777"
      ]
     },
     "execution_count": 24,
     "metadata": {},
     "output_type": "execute_result"
    }
   ],
   "source": [
    "pipe.score(X_train, y_train)"
   ]
  },
  {
   "cell_type": "code",
   "execution_count": 25,
   "metadata": {},
   "outputs": [
    {
     "data": {
      "text/plain": [
       "1.0"
      ]
     },
     "execution_count": 25,
     "metadata": {},
     "output_type": "execute_result"
    }
   ],
   "source": [
    "pipe.score(X_test, y_test)"
   ]
  },
  {
   "cell_type": "code",
   "execution_count": 28,
   "metadata": {},
   "outputs": [
    {
     "data": {
      "text/plain": [
       "0.9666666666666667"
      ]
     },
     "execution_count": 28,
     "metadata": {},
     "output_type": "execute_result"
    }
   ],
   "source": [
    "model.score(X_test, y_test)"
   ]
  },
  {
   "cell_type": "markdown",
   "metadata": {},
   "source": [
    "## Find the best model with hyperparameter search\n"
   ]
  },
  {
   "cell_type": "code",
   "execution_count": null,
   "metadata": {},
   "outputs": [],
   "source": [
    "sklearn.model_selection.GridSearchCV(\n",
    "    estimator, \n",
    "    param_grid, \n",
    "    scoring=None, # how to evaluate the predictions? str or callable\n",
    "    n_jobs=None,  # jobs in parallel. None means 1. -1 uses all processors\n",
    ")"
   ]
  },
  {
   "cell_type": "code",
   "execution_count": null,
   "metadata": {},
   "outputs": [],
   "source": [
    "sklearn.svm.SVC(\n",
    "    C=1.0,  # Penalty parameter C of the error term.\n",
    "    kernel=’rbf’,\n",
    "    degree=3,  # degree of the poly kernel\n",
    "    gamma=’auto_deprecated’  # Kernel coefficient for ‘rbf’, ‘poly’ and ‘sigmoid’.\n",
    ")"
   ]
  },
  {
   "cell_type": "code",
   "execution_count": 29,
   "metadata": {},
   "outputs": [],
   "source": [
    "param_grid = [\n",
    "  {'C': [1, 10, 100, 1000], 'kernel': ['linear']},\n",
    "  {'C': [1, 10, 100, 1000], 'gamma': [0.001, 0.0001], 'kernel': ['rbf']},\n",
    " ]"
   ]
  },
  {
   "cell_type": "code",
   "execution_count": 38,
   "metadata": {},
   "outputs": [
    {
     "data": {
      "text/plain": [
       "GridSearchCV(cv=5, error_score='raise',\n",
       "       estimator=SVC(C=1.0, cache_size=200, class_weight=None, coef0=0.0,\n",
       "  decision_function_shape='ovr', degree=3, gamma='auto', kernel='rbf',\n",
       "  max_iter=-1, probability=False, random_state=None, shrinking=True,\n",
       "  tol=0.001, verbose=False),\n",
       "       fit_params=None, iid=True, n_jobs=1,\n",
       "       param_grid=[{'C': [1, 10, 100, 1000], 'kernel': ['linear']}, {'C': [1, 10, 100, 1000], 'gamma': [0.001, 0.0001], 'kernel': ['rbf']}],\n",
       "       pre_dispatch='2*n_jobs', refit=True, return_train_score=True,\n",
       "       scoring=None, verbose=0)"
      ]
     },
     "execution_count": 38,
     "metadata": {},
     "output_type": "execute_result"
    }
   ],
   "source": [
    "from sklearn.model_selection import GridSearchCV\n",
    "\n",
    "model = GridSearchCV(SVC(), param_grid, cv=5, return_train_score=True)\n",
    "model.fit(X_train, y_train)"
   ]
  },
  {
   "cell_type": "code",
   "execution_count": 39,
   "metadata": {
    "scrolled": true
   },
   "outputs": [
    {
     "data": {
      "text/html": [
       "<div>\n",
       "<style scoped>\n",
       "    .dataframe tbody tr th:only-of-type {\n",
       "        vertical-align: middle;\n",
       "    }\n",
       "\n",
       "    .dataframe tbody tr th {\n",
       "        vertical-align: top;\n",
       "    }\n",
       "\n",
       "    .dataframe thead th {\n",
       "        text-align: right;\n",
       "    }\n",
       "</style>\n",
       "<table border=\"1\" class=\"dataframe\">\n",
       "  <thead>\n",
       "    <tr style=\"text-align: right;\">\n",
       "      <th></th>\n",
       "      <th>mean_fit_time</th>\n",
       "      <th>std_fit_time</th>\n",
       "      <th>mean_score_time</th>\n",
       "      <th>std_score_time</th>\n",
       "      <th>param_C</th>\n",
       "      <th>param_kernel</th>\n",
       "      <th>param_gamma</th>\n",
       "      <th>params</th>\n",
       "      <th>split0_test_score</th>\n",
       "      <th>split1_test_score</th>\n",
       "      <th>...</th>\n",
       "      <th>mean_test_score</th>\n",
       "      <th>std_test_score</th>\n",
       "      <th>rank_test_score</th>\n",
       "      <th>split0_train_score</th>\n",
       "      <th>split1_train_score</th>\n",
       "      <th>split2_train_score</th>\n",
       "      <th>split3_train_score</th>\n",
       "      <th>split4_train_score</th>\n",
       "      <th>mean_train_score</th>\n",
       "      <th>std_train_score</th>\n",
       "    </tr>\n",
       "  </thead>\n",
       "  <tbody>\n",
       "    <tr>\n",
       "      <th>0</th>\n",
       "      <td>0.000999</td>\n",
       "      <td>0.000002</td>\n",
       "      <td>0.000000</td>\n",
       "      <td>0.000000</td>\n",
       "      <td>1</td>\n",
       "      <td>linear</td>\n",
       "      <td>NaN</td>\n",
       "      <td>{'C': 1, 'kernel': 'linear'}</td>\n",
       "      <td>1.00</td>\n",
       "      <td>0.894737</td>\n",
       "      <td>...</td>\n",
       "      <td>0.955556</td>\n",
       "      <td>0.040879</td>\n",
       "      <td>1</td>\n",
       "      <td>0.971429</td>\n",
       "      <td>1.000000</td>\n",
       "      <td>0.986301</td>\n",
       "      <td>0.972603</td>\n",
       "      <td>0.958904</td>\n",
       "      <td>0.977847</td>\n",
       "      <td>0.014070</td>\n",
       "    </tr>\n",
       "    <tr>\n",
       "      <th>1</th>\n",
       "      <td>0.000801</td>\n",
       "      <td>0.000401</td>\n",
       "      <td>0.000599</td>\n",
       "      <td>0.000489</td>\n",
       "      <td>10</td>\n",
       "      <td>linear</td>\n",
       "      <td>NaN</td>\n",
       "      <td>{'C': 10, 'kernel': 'linear'}</td>\n",
       "      <td>0.95</td>\n",
       "      <td>0.842105</td>\n",
       "      <td>...</td>\n",
       "      <td>0.933333</td>\n",
       "      <td>0.051783</td>\n",
       "      <td>7</td>\n",
       "      <td>0.971429</td>\n",
       "      <td>1.000000</td>\n",
       "      <td>0.986301</td>\n",
       "      <td>0.986301</td>\n",
       "      <td>0.958904</td>\n",
       "      <td>0.980587</td>\n",
       "      <td>0.014115</td>\n",
       "    </tr>\n",
       "    <tr>\n",
       "      <th>2</th>\n",
       "      <td>0.001390</td>\n",
       "      <td>0.000802</td>\n",
       "      <td>0.001197</td>\n",
       "      <td>0.001466</td>\n",
       "      <td>100</td>\n",
       "      <td>linear</td>\n",
       "      <td>NaN</td>\n",
       "      <td>{'C': 100, 'kernel': 'linear'}</td>\n",
       "      <td>0.95</td>\n",
       "      <td>0.789474</td>\n",
       "      <td>...</td>\n",
       "      <td>0.944444</td>\n",
       "      <td>0.082619</td>\n",
       "      <td>2</td>\n",
       "      <td>0.985714</td>\n",
       "      <td>1.000000</td>\n",
       "      <td>0.972603</td>\n",
       "      <td>0.986301</td>\n",
       "      <td>0.986301</td>\n",
       "      <td>0.986184</td>\n",
       "      <td>0.008667</td>\n",
       "    </tr>\n",
       "    <tr>\n",
       "      <th>3</th>\n",
       "      <td>0.000400</td>\n",
       "      <td>0.000490</td>\n",
       "      <td>0.000200</td>\n",
       "      <td>0.000399</td>\n",
       "      <td>1000</td>\n",
       "      <td>linear</td>\n",
       "      <td>NaN</td>\n",
       "      <td>{'C': 1000, 'kernel': 'linear'}</td>\n",
       "      <td>0.95</td>\n",
       "      <td>0.789474</td>\n",
       "      <td>...</td>\n",
       "      <td>0.944444</td>\n",
       "      <td>0.082619</td>\n",
       "      <td>2</td>\n",
       "      <td>0.985714</td>\n",
       "      <td>1.000000</td>\n",
       "      <td>0.986301</td>\n",
       "      <td>0.986301</td>\n",
       "      <td>0.986301</td>\n",
       "      <td>0.988924</td>\n",
       "      <td>0.005543</td>\n",
       "    </tr>\n",
       "    <tr>\n",
       "      <th>4</th>\n",
       "      <td>0.000407</td>\n",
       "      <td>0.000498</td>\n",
       "      <td>0.000192</td>\n",
       "      <td>0.000383</td>\n",
       "      <td>1</td>\n",
       "      <td>rbf</td>\n",
       "      <td>0.001</td>\n",
       "      <td>{'C': 1, 'gamma': 0.001, 'kernel': 'rbf'}</td>\n",
       "      <td>0.40</td>\n",
       "      <td>0.578947</td>\n",
       "      <td>...</td>\n",
       "      <td>0.555556</td>\n",
       "      <td>0.093728</td>\n",
       "      <td>11</td>\n",
       "      <td>0.557143</td>\n",
       "      <td>0.591549</td>\n",
       "      <td>0.575342</td>\n",
       "      <td>0.424658</td>\n",
       "      <td>0.630137</td>\n",
       "      <td>0.555766</td>\n",
       "      <td>0.069837</td>\n",
       "    </tr>\n",
       "    <tr>\n",
       "      <th>5</th>\n",
       "      <td>0.000999</td>\n",
       "      <td>0.001097</td>\n",
       "      <td>0.000395</td>\n",
       "      <td>0.000484</td>\n",
       "      <td>1</td>\n",
       "      <td>rbf</td>\n",
       "      <td>0.0001</td>\n",
       "      <td>{'C': 1, 'gamma': 0.0001, 'kernel': 'rbf'}</td>\n",
       "      <td>0.35</td>\n",
       "      <td>0.578947</td>\n",
       "      <td>...</td>\n",
       "      <td>0.400000</td>\n",
       "      <td>0.092578</td>\n",
       "      <td>12</td>\n",
       "      <td>0.357143</td>\n",
       "      <td>0.591549</td>\n",
       "      <td>0.356164</td>\n",
       "      <td>0.356164</td>\n",
       "      <td>0.356164</td>\n",
       "      <td>0.403437</td>\n",
       "      <td>0.094057</td>\n",
       "    </tr>\n",
       "    <tr>\n",
       "      <th>6</th>\n",
       "      <td>0.000398</td>\n",
       "      <td>0.000488</td>\n",
       "      <td>0.000598</td>\n",
       "      <td>0.000488</td>\n",
       "      <td>10</td>\n",
       "      <td>rbf</td>\n",
       "      <td>0.001</td>\n",
       "      <td>{'C': 10, 'gamma': 0.001, 'kernel': 'rbf'}</td>\n",
       "      <td>1.00</td>\n",
       "      <td>0.842105</td>\n",
       "      <td>...</td>\n",
       "      <td>0.911111</td>\n",
       "      <td>0.076542</td>\n",
       "      <td>8</td>\n",
       "      <td>0.857143</td>\n",
       "      <td>0.943662</td>\n",
       "      <td>0.917808</td>\n",
       "      <td>0.890411</td>\n",
       "      <td>0.904110</td>\n",
       "      <td>0.902627</td>\n",
       "      <td>0.028756</td>\n",
       "    </tr>\n",
       "    <tr>\n",
       "      <th>7</th>\n",
       "      <td>0.000997</td>\n",
       "      <td>0.000630</td>\n",
       "      <td>0.000200</td>\n",
       "      <td>0.000399</td>\n",
       "      <td>10</td>\n",
       "      <td>rbf</td>\n",
       "      <td>0.0001</td>\n",
       "      <td>{'C': 10, 'gamma': 0.0001, 'kernel': 'rbf'}</td>\n",
       "      <td>0.50</td>\n",
       "      <td>0.578947</td>\n",
       "      <td>...</td>\n",
       "      <td>0.577778</td>\n",
       "      <td>0.059998</td>\n",
       "      <td>10</td>\n",
       "      <td>0.571429</td>\n",
       "      <td>0.591549</td>\n",
       "      <td>0.589041</td>\n",
       "      <td>0.479452</td>\n",
       "      <td>0.657534</td>\n",
       "      <td>0.577801</td>\n",
       "      <td>0.057247</td>\n",
       "    </tr>\n",
       "    <tr>\n",
       "      <th>8</th>\n",
       "      <td>0.000399</td>\n",
       "      <td>0.000488</td>\n",
       "      <td>0.000397</td>\n",
       "      <td>0.000487</td>\n",
       "      <td>100</td>\n",
       "      <td>rbf</td>\n",
       "      <td>0.001</td>\n",
       "      <td>{'C': 100, 'gamma': 0.001, 'kernel': 'rbf'}</td>\n",
       "      <td>1.00</td>\n",
       "      <td>0.842105</td>\n",
       "      <td>...</td>\n",
       "      <td>0.944444</td>\n",
       "      <td>0.059025</td>\n",
       "      <td>2</td>\n",
       "      <td>0.928571</td>\n",
       "      <td>0.985915</td>\n",
       "      <td>0.958904</td>\n",
       "      <td>0.945205</td>\n",
       "      <td>0.958904</td>\n",
       "      <td>0.955500</td>\n",
       "      <td>0.018865</td>\n",
       "    </tr>\n",
       "    <tr>\n",
       "      <th>9</th>\n",
       "      <td>0.000798</td>\n",
       "      <td>0.000399</td>\n",
       "      <td>0.000201</td>\n",
       "      <td>0.000402</td>\n",
       "      <td>100</td>\n",
       "      <td>rbf</td>\n",
       "      <td>0.0001</td>\n",
       "      <td>{'C': 100, 'gamma': 0.0001, 'kernel': 'rbf'}</td>\n",
       "      <td>1.00</td>\n",
       "      <td>0.842105</td>\n",
       "      <td>...</td>\n",
       "      <td>0.911111</td>\n",
       "      <td>0.076542</td>\n",
       "      <td>8</td>\n",
       "      <td>0.857143</td>\n",
       "      <td>0.943662</td>\n",
       "      <td>0.917808</td>\n",
       "      <td>0.890411</td>\n",
       "      <td>0.904110</td>\n",
       "      <td>0.902627</td>\n",
       "      <td>0.028756</td>\n",
       "    </tr>\n",
       "    <tr>\n",
       "      <th>10</th>\n",
       "      <td>0.000602</td>\n",
       "      <td>0.000492</td>\n",
       "      <td>0.001192</td>\n",
       "      <td>0.001451</td>\n",
       "      <td>1000</td>\n",
       "      <td>rbf</td>\n",
       "      <td>0.001</td>\n",
       "      <td>{'C': 1000, 'gamma': 0.001, 'kernel': 'rbf'}</td>\n",
       "      <td>1.00</td>\n",
       "      <td>0.842105</td>\n",
       "      <td>...</td>\n",
       "      <td>0.944444</td>\n",
       "      <td>0.059025</td>\n",
       "      <td>2</td>\n",
       "      <td>0.971429</td>\n",
       "      <td>0.985915</td>\n",
       "      <td>0.986301</td>\n",
       "      <td>0.958904</td>\n",
       "      <td>0.972603</td>\n",
       "      <td>0.975030</td>\n",
       "      <td>0.010242</td>\n",
       "    </tr>\n",
       "    <tr>\n",
       "      <th>11</th>\n",
       "      <td>0.000199</td>\n",
       "      <td>0.000399</td>\n",
       "      <td>0.000209</td>\n",
       "      <td>0.000418</td>\n",
       "      <td>1000</td>\n",
       "      <td>rbf</td>\n",
       "      <td>0.0001</td>\n",
       "      <td>{'C': 1000, 'gamma': 0.0001, 'kernel': 'rbf'}</td>\n",
       "      <td>1.00</td>\n",
       "      <td>0.842105</td>\n",
       "      <td>...</td>\n",
       "      <td>0.944444</td>\n",
       "      <td>0.059025</td>\n",
       "      <td>2</td>\n",
       "      <td>0.928571</td>\n",
       "      <td>0.985915</td>\n",
       "      <td>0.958904</td>\n",
       "      <td>0.945205</td>\n",
       "      <td>0.958904</td>\n",
       "      <td>0.955500</td>\n",
       "      <td>0.018865</td>\n",
       "    </tr>\n",
       "  </tbody>\n",
       "</table>\n",
       "<p>12 rows × 23 columns</p>\n",
       "</div>"
      ],
      "text/plain": [
       "    mean_fit_time  std_fit_time  mean_score_time  std_score_time param_C  \\\n",
       "0        0.000999      0.000002         0.000000        0.000000       1   \n",
       "1        0.000801      0.000401         0.000599        0.000489      10   \n",
       "2        0.001390      0.000802         0.001197        0.001466     100   \n",
       "3        0.000400      0.000490         0.000200        0.000399    1000   \n",
       "4        0.000407      0.000498         0.000192        0.000383       1   \n",
       "5        0.000999      0.001097         0.000395        0.000484       1   \n",
       "6        0.000398      0.000488         0.000598        0.000488      10   \n",
       "7        0.000997      0.000630         0.000200        0.000399      10   \n",
       "8        0.000399      0.000488         0.000397        0.000487     100   \n",
       "9        0.000798      0.000399         0.000201        0.000402     100   \n",
       "10       0.000602      0.000492         0.001192        0.001451    1000   \n",
       "11       0.000199      0.000399         0.000209        0.000418    1000   \n",
       "\n",
       "   param_kernel param_gamma                                         params  \\\n",
       "0        linear         NaN                   {'C': 1, 'kernel': 'linear'}   \n",
       "1        linear         NaN                  {'C': 10, 'kernel': 'linear'}   \n",
       "2        linear         NaN                 {'C': 100, 'kernel': 'linear'}   \n",
       "3        linear         NaN                {'C': 1000, 'kernel': 'linear'}   \n",
       "4           rbf       0.001      {'C': 1, 'gamma': 0.001, 'kernel': 'rbf'}   \n",
       "5           rbf      0.0001     {'C': 1, 'gamma': 0.0001, 'kernel': 'rbf'}   \n",
       "6           rbf       0.001     {'C': 10, 'gamma': 0.001, 'kernel': 'rbf'}   \n",
       "7           rbf      0.0001    {'C': 10, 'gamma': 0.0001, 'kernel': 'rbf'}   \n",
       "8           rbf       0.001    {'C': 100, 'gamma': 0.001, 'kernel': 'rbf'}   \n",
       "9           rbf      0.0001   {'C': 100, 'gamma': 0.0001, 'kernel': 'rbf'}   \n",
       "10          rbf       0.001   {'C': 1000, 'gamma': 0.001, 'kernel': 'rbf'}   \n",
       "11          rbf      0.0001  {'C': 1000, 'gamma': 0.0001, 'kernel': 'rbf'}   \n",
       "\n",
       "    split0_test_score  split1_test_score       ...         mean_test_score  \\\n",
       "0                1.00           0.894737       ...                0.955556   \n",
       "1                0.95           0.842105       ...                0.933333   \n",
       "2                0.95           0.789474       ...                0.944444   \n",
       "3                0.95           0.789474       ...                0.944444   \n",
       "4                0.40           0.578947       ...                0.555556   \n",
       "5                0.35           0.578947       ...                0.400000   \n",
       "6                1.00           0.842105       ...                0.911111   \n",
       "7                0.50           0.578947       ...                0.577778   \n",
       "8                1.00           0.842105       ...                0.944444   \n",
       "9                1.00           0.842105       ...                0.911111   \n",
       "10               1.00           0.842105       ...                0.944444   \n",
       "11               1.00           0.842105       ...                0.944444   \n",
       "\n",
       "    std_test_score  rank_test_score  split0_train_score  split1_train_score  \\\n",
       "0         0.040879                1            0.971429            1.000000   \n",
       "1         0.051783                7            0.971429            1.000000   \n",
       "2         0.082619                2            0.985714            1.000000   \n",
       "3         0.082619                2            0.985714            1.000000   \n",
       "4         0.093728               11            0.557143            0.591549   \n",
       "5         0.092578               12            0.357143            0.591549   \n",
       "6         0.076542                8            0.857143            0.943662   \n",
       "7         0.059998               10            0.571429            0.591549   \n",
       "8         0.059025                2            0.928571            0.985915   \n",
       "9         0.076542                8            0.857143            0.943662   \n",
       "10        0.059025                2            0.971429            0.985915   \n",
       "11        0.059025                2            0.928571            0.985915   \n",
       "\n",
       "    split2_train_score  split3_train_score  split4_train_score  \\\n",
       "0             0.986301            0.972603            0.958904   \n",
       "1             0.986301            0.986301            0.958904   \n",
       "2             0.972603            0.986301            0.986301   \n",
       "3             0.986301            0.986301            0.986301   \n",
       "4             0.575342            0.424658            0.630137   \n",
       "5             0.356164            0.356164            0.356164   \n",
       "6             0.917808            0.890411            0.904110   \n",
       "7             0.589041            0.479452            0.657534   \n",
       "8             0.958904            0.945205            0.958904   \n",
       "9             0.917808            0.890411            0.904110   \n",
       "10            0.986301            0.958904            0.972603   \n",
       "11            0.958904            0.945205            0.958904   \n",
       "\n",
       "    mean_train_score  std_train_score  \n",
       "0           0.977847         0.014070  \n",
       "1           0.980587         0.014115  \n",
       "2           0.986184         0.008667  \n",
       "3           0.988924         0.005543  \n",
       "4           0.555766         0.069837  \n",
       "5           0.403437         0.094057  \n",
       "6           0.902627         0.028756  \n",
       "7           0.577801         0.057247  \n",
       "8           0.955500         0.018865  \n",
       "9           0.902627         0.028756  \n",
       "10          0.975030         0.010242  \n",
       "11          0.955500         0.018865  \n",
       "\n",
       "[12 rows x 23 columns]"
      ]
     },
     "execution_count": 39,
     "metadata": {},
     "output_type": "execute_result"
    }
   ],
   "source": [
    "import pandas as pd\n",
    "\n",
    "pd.DataFrame(model.cv_results_)"
   ]
  },
  {
   "cell_type": "code",
   "execution_count": 43,
   "metadata": {},
   "outputs": [
    {
     "data": {
      "text/plain": [
       "[('pca',\n",
       "  PCA(copy=True, iterated_power='auto', n_components=None, random_state=None,\n",
       "    svd_solver='auto', tol=0.0, whiten=False)),\n",
       " ('svc', SVC(C=1.0, cache_size=200, class_weight=None, coef0=0.0,\n",
       "    decision_function_shape='ovr', degree=3, gamma='auto', kernel='rbf',\n",
       "    max_iter=-1, probability=False, random_state=None, shrinking=True,\n",
       "    tol=0.001, verbose=False))]"
      ]
     },
     "execution_count": 43,
     "metadata": {},
     "output_type": "execute_result"
    }
   ],
   "source": [
    "pipe.steps"
   ]
  },
  {
   "cell_type": "code",
   "execution_count": 41,
   "metadata": {},
   "outputs": [
    {
     "data": {
      "text/plain": [
       "GridSearchCV(cv=5, error_score='raise',\n",
       "       estimator=Pipeline(memory=None,\n",
       "     steps=[('pca', PCA(copy=True, iterated_power='auto', n_components=None, random_state=None,\n",
       "  svd_solver='auto', tol=0.0, whiten=False)), ('svc', SVC(C=1.0, cache_size=200, class_weight=None, coef0=0.0,\n",
       "  decision_function_shape='ovr', degree=3, gamma='auto', kernel='rbf',\n",
       "  max_iter=-1, probability=False, random_state=None, shrinking=True,\n",
       "  tol=0.001, verbose=False))]),\n",
       "       fit_params=None, iid=True, n_jobs=1,\n",
       "       param_grid={'svc__C': [0.1, 10, 100]}, pre_dispatch='2*n_jobs',\n",
       "       refit=True, return_train_score=True, scoring=None, verbose=0)"
      ]
     },
     "execution_count": 41,
     "metadata": {},
     "output_type": "execute_result"
    }
   ],
   "source": [
    "model = GridSearchCV(pipe, dict(svc__C=[0.1, 10, 100]), cv=5, return_train_score=True)\n",
    "model.fit(X_train, y_train)"
   ]
  }
 ],
 "metadata": {
  "kernelspec": {
   "display_name": "Python 3",
   "language": "python",
   "name": "python3"
  },
  "language_info": {
   "codemirror_mode": {
    "name": "ipython",
    "version": 3
   },
   "file_extension": ".py",
   "mimetype": "text/x-python",
   "name": "python",
   "nbconvert_exporter": "python",
   "pygments_lexer": "ipython3",
   "version": "3.6.2"
  }
 },
 "nbformat": 4,
 "nbformat_minor": 2
}
